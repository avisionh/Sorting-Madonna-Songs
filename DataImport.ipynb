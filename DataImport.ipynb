{
 "cells": [
  {
   "cell_type": "markdown",
   "metadata": {},
   "source": [
    "# Sorting Madonna Songs\n",
    "This project will randomly order the entire backlog of Madonna's songs. This was motivated following a colleague's offhand remark about one's favourite song being *Material Girl* by Madge, which triggered another colleague to provide the challenge of ranking all of Madonna's songs.  \n",
    "\n",
    "In particular, there are two key stages to this random ordering:\n",
    "1. Assign a random, distinct integer number next to each song to act as its preference ranking\n",
    "1. Employ a sorting algorithm to sort this list via the preference ranking column just created\n",
    "\n",
    "Will try a variety of sorting algorithms detailed below\n",
    "- **Quicksort**\n",
    "- **Bubble sort**\n",
    "- **Breadth-first search**\n",
    "- **Heapsort**\n",
    "- **Insertion sort**\n",
    "- **Shell sort**"
   ]
  },
  {
   "cell_type": "markdown",
   "metadata": {},
   "source": [
    "## Set-up\n",
    "Need to load in the relevant packages, set-up the right environemnt, and import the dataset."
   ]
  },
  {
   "cell_type": "code",
   "execution_count": 2,
   "metadata": {
    "collapsed": false
   },
   "outputs": [
    {
     "data": {
      "text/plain": [
       "'C:\\\\Users\\\\a_vis\\\\Documents\\\\Data Science\\\\Projects\\\\Sorting-Madge-Songs'"
      ]
     },
     "execution_count": 2,
     "metadata": {},
     "output_type": "execute_result"
    }
   ],
   "source": [
    "# Export our environment, \"NewEnv\" and save it as \"anomaly-detection.yml\"\n",
    "!conda env export -n NewEnv -f environment_anaconda.yml\n",
    "\n",
    "# Check working directory to ensure user notebook is easily transferable\n",
    "import os\n",
    "os.getcwd()"
   ]
  },
  {
   "cell_type": "code",
   "execution_count": 3,
   "metadata": {
    "collapsed": true
   },
   "outputs": [],
   "source": [
    "# Import required libraries\n",
    "import numpy as np\n",
    "import pandas as pd\n",
    "import xlrd\n",
    "import csv"
   ]
  },
  {
   "cell_type": "markdown",
   "metadata": {},
   "source": [
    "### Convert to CSV\n",
    "Do not have Excel installed so cannot convert it via that. Instead, get round it via the *xlrd* and *csv* packages.\n",
    "Note, could directly read in Excel file and play with that. However, learn less that way!\n",
    "\n",
    "Code for function was taken from this [link](https://stackoverflow.com/questions/9884353/xls-to-csv-converter). However, first encountered an issue on using subfolders. This was resolved in this [link](https://stackoverflow.com/questions/7165749/open-file-in-a-relative-location-in-python). Then encountered an issue concerning the reading of entries as `bytes` instead of `str` which was resolved in this [link](https://stackoverflow.com/questions/33054527/typeerror-a-bytes-like-object-is-required-not-str-when-writing-to-a-file-in)."
   ]
  },
  {
   "cell_type": "code",
   "execution_count": 4,
   "metadata": {
    "collapsed": false
   },
   "outputs": [],
   "source": [
    "def csv_from_excel(file_input, file_output, sheet_index):\n",
    "\n",
    "    wb = xlrd.open_workbook(filename = file_input)\n",
    "    sh = wb.sheet_by_index(sheet_index)\n",
    "    file_csv = open(file = file_output, mode = 'wt')\n",
    "    wr = csv.writer(file_csv, quoting = csv.QUOTE_ALL)\n",
    "\n",
    "    for rownum in range(sh.nrows):\n",
    "        wr.writerow(sh.row_values(rownum))\n",
    "\n",
    "    file_csv.close()"
   ]
  },
  {
   "cell_type": "code",
   "execution_count": 5,
   "metadata": {
    "collapsed": false
   },
   "outputs": [],
   "source": [
    "# run function to output .csv file\n",
    "csv_from_excel(file_input = 'data\\songs_madonna.xlsx', file_output = 'data\\songs_madonna.csv', sheet_index = 0)"
   ]
  },
  {
   "cell_type": "markdown",
   "metadata": {},
   "source": [
    "### Data Wrangle\n",
    "Load in our .csv file so that we can add distinct random numbers as a column which we will use to sort on.\n",
    "\n",
    "Note: File is encoded as *ANSI* which is `mbcs` in the `pd.red_csv()`."
   ]
  },
  {
   "cell_type": "code",
   "execution_count": 12,
   "metadata": {
    "collapsed": false
   },
   "outputs": [],
   "source": [
    "# import data\n",
    "data_madge = pd.read_csv(filepath_or_buffer = 'data\\songs_madonna.csv', encoding = 'mbcs')"
   ]
  },
  {
   "cell_type": "code",
   "execution_count": 13,
   "metadata": {
    "collapsed": false
   },
   "outputs": [
    {
     "data": {
      "text/html": [
       "<div>\n",
       "<table border=\"1\" class=\"dataframe\">\n",
       "  <thead>\n",
       "    <tr style=\"text-align: right;\">\n",
       "      <th></th>\n",
       "      <th>Songs</th>\n",
       "      <th>Avison</th>\n",
       "    </tr>\n",
       "  </thead>\n",
       "  <tbody>\n",
       "    <tr>\n",
       "      <th>0</th>\n",
       "      <td>4 Minutes</td>\n",
       "      <td>NaN</td>\n",
       "    </tr>\n",
       "    <tr>\n",
       "      <th>1</th>\n",
       "      <td>American Life</td>\n",
       "      <td>NaN</td>\n",
       "    </tr>\n",
       "    <tr>\n",
       "      <th>2</th>\n",
       "      <td>American Pie</td>\n",
       "      <td>NaN</td>\n",
       "    </tr>\n",
       "    <tr>\n",
       "      <th>3</th>\n",
       "      <td>Angel</td>\n",
       "      <td>NaN</td>\n",
       "    </tr>\n",
       "    <tr>\n",
       "      <th>4</th>\n",
       "      <td>Another Suitcase in Another Hall</td>\n",
       "      <td>NaN</td>\n",
       "    </tr>\n",
       "  </tbody>\n",
       "</table>\n",
       "</div>"
      ],
      "text/plain": [
       "                              Songs  Avison\n",
       "0                        4 Minutes      NaN\n",
       "1                     American Life     NaN\n",
       "2                      American Pie     NaN\n",
       "3                             Angel     NaN\n",
       "4  Another Suitcase in Another Hall     NaN"
      ]
     },
     "execution_count": 13,
     "metadata": {},
     "output_type": "execute_result"
    }
   ],
   "source": [
    "# display data\n",
    "data_madge.head()"
   ]
  },
  {
   "cell_type": "markdown",
   "metadata": {},
   "source": [
    "In the code below, are following a naive method for creating a column of distinct random numbers. This will be in steps:\n",
    "\n",
    "1. Store the number of rows in a variable.\n",
    "1. Generate a random sample without replacement using the number of rows as our region of interest.\n",
    "1. Bind this random sample onto our `data_madge` dataframe.\n"
   ]
  },
  {
   "cell_type": "code",
   "execution_count": null,
   "metadata": {
    "collapsed": true
   },
   "outputs": [],
   "source": [
    "# import package for random-sampling\n",
    "import random"
   ]
  },
  {
   "cell_type": "code",
   "execution_count": 16,
   "metadata": {
    "collapsed": true
   },
   "outputs": [],
   "source": [
    "# set random seed\n",
    "seed_random = np.random.RandomState(123)\n",
    "\n",
    "# 1. store number of rows in a variable\n",
    "n_rows = len(data_madge.index)\n",
    "\n",
    "# 2. generate random sample without replacement\n",
    "# note: using try-catch logic to ensure we generate a sample\n",
    "try:\n",
    "    sample_random = random.sample(population = range(0, n_rows), k = n_rows)\n",
    "    print('Random sample generated is of object type: ', type(sample_random))\n",
    "except ValueError:\n",
    "    print('Sample size exceeded population size.')\n",
    "\n",
    "# 3. bind random sample onto dataframe\n",
    "data_madge['Preference_Avision'] = sample_random\n",
    "data_madge = data_madge[['Songs', 'Preference_Avision']]"
   ]
  },
  {
   "cell_type": "code",
   "execution_count": 41,
   "metadata": {
    "collapsed": false
   },
   "outputs": [
    {
     "data": {
      "text/html": [
       "<div>\n",
       "<table border=\"1\" class=\"dataframe\">\n",
       "  <thead>\n",
       "    <tr style=\"text-align: right;\">\n",
       "      <th></th>\n",
       "      <th>Songs</th>\n",
       "      <th>Preference_Avision</th>\n",
       "    </tr>\n",
       "  </thead>\n",
       "  <tbody>\n",
       "    <tr>\n",
       "      <th>0</th>\n",
       "      <td>4 Minutes</td>\n",
       "      <td>81</td>\n",
       "    </tr>\n",
       "    <tr>\n",
       "      <th>1</th>\n",
       "      <td>American Life</td>\n",
       "      <td>5</td>\n",
       "    </tr>\n",
       "    <tr>\n",
       "      <th>2</th>\n",
       "      <td>American Pie</td>\n",
       "      <td>37</td>\n",
       "    </tr>\n",
       "    <tr>\n",
       "      <th>3</th>\n",
       "      <td>Angel</td>\n",
       "      <td>8</td>\n",
       "    </tr>\n",
       "    <tr>\n",
       "      <th>4</th>\n",
       "      <td>Another Suitcase in Another Hall</td>\n",
       "      <td>35</td>\n",
       "    </tr>\n",
       "  </tbody>\n",
       "</table>\n",
       "</div>"
      ],
      "text/plain": [
       "                              Songs  Preference_Avision\n",
       "0                        4 Minutes                   81\n",
       "1                     American Life                   5\n",
       "2                      American Pie                  37\n",
       "3                             Angel                   8\n",
       "4  Another Suitcase in Another Hall                  35"
      ]
     },
     "execution_count": 41,
     "metadata": {},
     "output_type": "execute_result"
    }
   ],
   "source": [
    "# check new dataframe\n",
    "data_madge.head()"
   ]
  }
 ],
 "metadata": {
  "anaconda-cloud": {},
  "kernelspec": {
   "display_name": "Python [conda env:Anaconda3]",
   "language": "python",
   "name": "conda-env-Anaconda3-py"
  },
  "language_info": {
   "codemirror_mode": {
    "name": "ipython",
    "version": 3
   },
   "file_extension": ".py",
   "mimetype": "text/x-python",
   "name": "python",
   "nbconvert_exporter": "python",
   "pygments_lexer": "ipython3",
   "version": "3.5.2"
  },
  "varInspector": {
   "cols": {
    "lenName": 16,
    "lenType": 16,
    "lenVar": 40
   },
   "kernels_config": {
    "python": {
     "delete_cmd_postfix": "",
     "delete_cmd_prefix": "del ",
     "library": "var_list.py",
     "varRefreshCmd": "print(var_dic_list())"
    },
    "r": {
     "delete_cmd_postfix": ") ",
     "delete_cmd_prefix": "rm(",
     "library": "var_list.r",
     "varRefreshCmd": "cat(var_dic_list()) "
    }
   },
   "types_to_exclude": [
    "module",
    "function",
    "builtin_function_or_method",
    "instance",
    "_Feature"
   ],
   "window_display": true
  }
 },
 "nbformat": 4,
 "nbformat_minor": 1
}
