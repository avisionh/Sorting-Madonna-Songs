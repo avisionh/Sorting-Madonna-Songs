{
 "cells": [
  {
   "cell_type": "markdown",
   "metadata": {},
   "source": [
    "# Sorting Madonna Songs\n",
    "This project will randomly order the entire backlog of Madonna's songs. This was motivated following a colleague's offhand remark about one's favourite song being *Material Girl* by Madge, which triggered another colleague to provide the challenge of ranking all of Madonna's songs.  \n",
    "\n",
    "In particular, there are two key stages to this random ordering:\n",
    "(@) Assign a random, distinct integer number next to each song to act as its preference ranking\n",
    "(@) Employ a sorting algorithm to sort this list via the preference ranking column just created\n",
    "\n",
    "Will try a variety of sorting algorithms detailed below\n",
    "- **Quicksort**\n",
    "- **Bubble sort**\n",
    "- **Breadth-first search**\n",
    "- **Heapsort**\n",
    "- **Insertion sort**\n",
    "- **Shell sort**"
   ]
  },
  {
   "cell_type": "markdown",
   "metadata": {},
   "source": [
    "## Set-up\n",
    "Need to load in the relevant packages, set-up the right environemnt, and import the dataset."
   ]
  },
  {
   "cell_type": "code",
   "execution_count": 6,
   "metadata": {
    "collapsed": false
   },
   "outputs": [
    {
     "data": {
      "text/plain": [
       "'C:\\\\Users\\\\a_vis\\\\Documents\\\\Data Science\\\\Projects\\\\Sorting-Madge-Songs'"
      ]
     },
     "execution_count": 6,
     "metadata": {},
     "output_type": "execute_result"
    }
   ],
   "source": [
    "# Export our environment, \"NewEnv\" and save it as \"anomaly-detection.yml\"\n",
    "!conda env export -n NewEnv -f environment_anaconda.yml\n",
    "\n",
    "# Check working directory to ensure user notebook is easily transferable\n",
    "import os\n",
    "os.getcwd()"
   ]
  },
  {
   "cell_type": "code",
   "execution_count": 8,
   "metadata": {
    "collapsed": true
   },
   "outputs": [],
   "source": [
    "# Import required libraries\n",
    "import numpy as np\n",
    "import pandas as pd\n",
    "import xlrd\n",
    "import csv"
   ]
  },
  {
   "cell_type": "markdown",
   "metadata": {},
   "source": [
    "### Convert to CSV\n",
    "Do not have Excel installed so cannot convert it via that. Instead, get round it via the *xlrd* and *csv* packages.\n",
    "Note, could directly read in Excel file and play with that. However, learn less that way!"
   ]
  },
  {
   "cell_type": "code",
   "execution_count": 38,
   "metadata": {
    "collapsed": false
   },
   "outputs": [],
   "source": [
    "def csv_from_excel():\n",
    "\n",
    "    wb = xlrd.open_workbook(filename = 'data\\songs_madonna.xlsx')\n",
    "    sh = wb.sheet_by_index(0)\n",
    "    file_csv = open(file = 'data\\songs_madonna.csv', mode = 'wt')\n",
    "    wr = csv.writer(file_csv, quoting = csv.QUOTE_ALL)\n",
    "\n",
    "    for rownum in range(sh.nrows):\n",
    "        wr.writerow(sh.row_values(rownum))\n",
    "\n",
    "    file_csv.close()"
   ]
  },
  {
   "cell_type": "code",
   "execution_count": 39,
   "metadata": {
    "collapsed": false
   },
   "outputs": [],
   "source": [
    "csv_from_excel()"
   ]
  }
 ],
 "metadata": {
  "anaconda-cloud": {},
  "kernelspec": {
   "display_name": "Python [conda env:Anaconda3]",
   "language": "python",
   "name": "conda-env-Anaconda3-py"
  },
  "language_info": {
   "codemirror_mode": {
    "name": "ipython",
    "version": 3
   },
   "file_extension": ".py",
   "mimetype": "text/x-python",
   "name": "python",
   "nbconvert_exporter": "python",
   "pygments_lexer": "ipython3",
   "version": "3.5.2"
  },
  "varInspector": {
   "cols": {
    "lenName": 16,
    "lenType": 16,
    "lenVar": 40
   },
   "kernels_config": {
    "python": {
     "delete_cmd_postfix": "",
     "delete_cmd_prefix": "del ",
     "library": "var_list.py",
     "varRefreshCmd": "print(var_dic_list())"
    },
    "r": {
     "delete_cmd_postfix": ") ",
     "delete_cmd_prefix": "rm(",
     "library": "var_list.r",
     "varRefreshCmd": "cat(var_dic_list()) "
    }
   },
   "types_to_exclude": [
    "module",
    "function",
    "builtin_function_or_method",
    "instance",
    "_Feature"
   ],
   "window_display": true
  }
 },
 "nbformat": 4,
 "nbformat_minor": 1
}
