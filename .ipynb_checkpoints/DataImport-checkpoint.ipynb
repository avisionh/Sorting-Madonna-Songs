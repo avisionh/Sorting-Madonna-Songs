{
 "cells": [
  {
   "cell_type": "markdown",
   "metadata": {},
   "source": [
    "# Sorting Madonna Songs\n",
    "This project will randomly order the entire backlog of Madonna's songs. This was motivated following a colleague's offhand remark about one's favourite song being *Material Girl* by Madge, which triggered another colleague to provide the challenge of ranking all of Madonna's songs.  \n",
    "\n",
    "In particular, there are two key stages to this random ordering:\n",
    "1. Assign a random, distinct integer number next to each song to act as its preference ranking\n",
    "1. Employ a sorting algorithm to sort this list via the preference ranking column just created\n",
    "\n",
    "Will try a variety of sorting algorithms detailed below\n",
    "- **Quicksort**\n",
    "- **Bubble sort**\n",
    "- **Breadth-first search**\n",
    "- **Heapsort**\n",
    "- **Insertion sort**\n",
    "- **Shell sort**"
   ]
  },
  {
   "cell_type": "markdown",
   "metadata": {},
   "source": [
    "## Set-up\n",
    "Need to load in the relevant packages, set-up the right environemnt, and import the dataset."
   ]
  },
  {
   "cell_type": "code",
   "execution_count": 2,
   "metadata": {
    "collapsed": false
   },
   "outputs": [
    {
     "data": {
      "text/plain": [
       "'C:\\\\Users\\\\a_vis\\\\Documents\\\\Data Science\\\\Projects\\\\Sorting-Madge-Songs'"
      ]
     },
     "execution_count": 2,
     "metadata": {},
     "output_type": "execute_result"
    }
   ],
   "source": [
    "# Export our environment, \"NewEnv\" and save it as \"anomaly-detection.yml\"\n",
    "!conda env export -n NewEnv -f environment_anaconda.yml\n",
    "\n",
    "# Check working directory to ensure user notebook is easily transferable\n",
    "import os\n",
    "os.getcwd()"
   ]
  },
  {
   "cell_type": "code",
   "execution_count": 3,
   "metadata": {
    "collapsed": true
   },
   "outputs": [],
   "source": [
    "# Import required libraries\n",
    "import numpy as np\n",
    "import pandas as pd\n",
    "import xlrd\n",
    "import csv"
   ]
  },
  {
   "cell_type": "markdown",
   "metadata": {},
   "source": [
    "### Convert to CSV\n",
    "Do not have Excel installed so cannot convert it via that. Instead, get round it via the *xlrd* and *csv* packages.\n",
    "Note, could directly read in Excel file and play with that. However, learn less that way!\n",
    "\n",
    "Code for function was taken from this [link](https://stackoverflow.com/questions/9884353/xls-to-csv-converter). However, first encountered an issue on using subfolders. This was resolved in this [link](https://stackoverflow.com/questions/7165749/open-file-in-a-relative-location-in-python). Then encountered an issue concerning the reading of entries as `bytes` instead of `str` which was resolved in this [link](https://stackoverflow.com/questions/33054527/typeerror-a-bytes-like-object-is-required-not-str-when-writing-to-a-file-in)."
   ]
  },
  {
   "cell_type": "code",
   "execution_count": 4,
   "metadata": {
    "collapsed": false
   },
   "outputs": [],
   "source": [
    "def csv_from_excel(file_input, file_output, sheet_index):\n",
    "\n",
    "    wb = xlrd.open_workbook(filename = file_input)\n",
    "    sh = wb.sheet_by_index(sheet_index)\n",
    "    file_csv = open(file = file_output, mode = 'wt')\n",
    "    wr = csv.writer(file_csv, quoting = csv.QUOTE_ALL)\n",
    "\n",
    "    for rownum in range(sh.nrows):\n",
    "        wr.writerow(sh.row_values(rownum))\n",
    "\n",
    "    file_csv.close()"
   ]
  },
  {
   "cell_type": "code",
   "execution_count": 5,
   "metadata": {
    "collapsed": false
   },
   "outputs": [],
   "source": [
    "# run function to output .csv file\n",
    "csv_from_excel(file_input = 'data\\songs_madonna.xlsx', file_output = 'data\\songs_madonna.csv', sheet_index = 0)"
   ]
  },
  {
   "cell_type": "markdown",
   "metadata": {},
   "source": [
    "### Data Wrangle\n",
    "Load in our .csv file so that we can add distinct random numbers as a column which we will use to sort on.\n",
    "\n",
    "Note: File is encoded as *ANSI* which is `mbcs` in the `pd.red_csv()`."
   ]
  },
  {
   "cell_type": "code",
   "execution_count": 12,
   "metadata": {
    "collapsed": false
   },
   "outputs": [],
   "source": [
    "# import data\n",
    "data_madge = pd.read_csv(filepath_or_buffer = 'data\\songs_madonna.csv', encoding = 'mbcs')"
   ]
  },
  {
   "cell_type": "code",
   "execution_count": 13,
   "metadata": {
    "collapsed": false
   },
   "outputs": [
    {
     "data": {
      "text/html": [
       "<div>\n",
       "<table border=\"1\" class=\"dataframe\">\n",
       "  <thead>\n",
       "    <tr style=\"text-align: right;\">\n",
       "      <th></th>\n",
       "      <th>Songs</th>\n",
       "      <th>Avison</th>\n",
       "    </tr>\n",
       "  </thead>\n",
       "  <tbody>\n",
       "    <tr>\n",
       "      <th>0</th>\n",
       "      <td>4 Minutes</td>\n",
       "      <td>NaN</td>\n",
       "    </tr>\n",
       "    <tr>\n",
       "      <th>1</th>\n",
       "      <td>American Life</td>\n",
       "      <td>NaN</td>\n",
       "    </tr>\n",
       "    <tr>\n",
       "      <th>2</th>\n",
       "      <td>American Pie</td>\n",
       "      <td>NaN</td>\n",
       "    </tr>\n",
       "    <tr>\n",
       "      <th>3</th>\n",
       "      <td>Angel</td>\n",
       "      <td>NaN</td>\n",
       "    </tr>\n",
       "    <tr>\n",
       "      <th>4</th>\n",
       "      <td>Another Suitcase in Another Hall</td>\n",
       "      <td>NaN</td>\n",
       "    </tr>\n",
       "  </tbody>\n",
       "</table>\n",
       "</div>"
      ],
      "text/plain": [
       "                              Songs  Avison\n",
       "0                        4 Minutes      NaN\n",
       "1                     American Life     NaN\n",
       "2                      American Pie     NaN\n",
       "3                             Angel     NaN\n",
       "4  Another Suitcase in Another Hall     NaN"
      ]
     },
     "execution_count": 13,
     "metadata": {},
     "output_type": "execute_result"
    }
   ],
   "source": [
    "# display data\n",
    "data_madge.head()"
   ]
  },
  {
   "cell_type": "markdown",
   "metadata": {},
   "source": [
    "In the code below, are following a naive method for creating a column of distinct random numbers. This will be in steps:\n",
    "\n",
    "1. Store the number of rows in a variable.\n",
    "1. Generate a random sample without replacement using the number of rows as our region of interest.\n",
    "1. Bind this random sample onto our `data_madge` dataframe.\n"
   ]
  },
  {
   "cell_type": "code",
   "execution_count": null,
   "metadata": {
    "collapsed": true
   },
   "outputs": [],
   "source": [
    "# import package for random-sampling\n",
    "import random"
   ]
  },
  {
   "cell_type": "code",
   "execution_count": 16,
   "metadata": {
    "collapsed": true
   },
   "outputs": [],
   "source": [
    "# set random seed\n",
    "seed_random = np.random.RandomState(123)\n",
    "\n",
    "# 1. store number of rows in a variable\n",
    "n_rows = len(data_madge.index)\n",
    "\n",
    "# 2. generate random sample without replacement\n",
    "# note: using try-catch logic to ensure we generate a sample\n",
    "try:\n",
    "    sample_random = random.sample(population = range(0, n_rows), k = n_rows)\n",
    "    print('Random sample generated is of object type: ', type(sample_random))\n",
    "except ValueError:\n",
    "    print('Sample size exceeded population size.')\n",
    "\n",
    "# 3. bind random sample onto dataframe\n",
    "data_madge['Preference_Avision'] = sample_random\n",
    "data_madge = data_madge[['Songs', 'Preference_Avision']]"
   ]
  },
  {
   "cell_type": "code",
   "execution_count": 45,
   "metadata": {
    "collapsed": false
   },
   "outputs": [
    {
     "data": {
      "text/html": [
       "<div>\n",
       "<table border=\"1\" class=\"dataframe\">\n",
       "  <thead>\n",
       "    <tr style=\"text-align: right;\">\n",
       "      <th></th>\n",
       "      <th>Songs</th>\n",
       "      <th>Preference_Avision</th>\n",
       "    </tr>\n",
       "  </thead>\n",
       "  <tbody>\n",
       "    <tr>\n",
       "      <th>0</th>\n",
       "      <td>4 Minutes</td>\n",
       "      <td>81</td>\n",
       "    </tr>\n",
       "    <tr>\n",
       "      <th>1</th>\n",
       "      <td>American Life</td>\n",
       "      <td>5</td>\n",
       "    </tr>\n",
       "    <tr>\n",
       "      <th>2</th>\n",
       "      <td>American Pie</td>\n",
       "      <td>37</td>\n",
       "    </tr>\n",
       "    <tr>\n",
       "      <th>3</th>\n",
       "      <td>Angel</td>\n",
       "      <td>8</td>\n",
       "    </tr>\n",
       "    <tr>\n",
       "      <th>4</th>\n",
       "      <td>Another Suitcase in Another Hall</td>\n",
       "      <td>35</td>\n",
       "    </tr>\n",
       "    <tr>\n",
       "      <th>5</th>\n",
       "      <td>Bad Girl</td>\n",
       "      <td>31</td>\n",
       "    </tr>\n",
       "    <tr>\n",
       "      <th>6</th>\n",
       "      <td>Beautiful Stranger</td>\n",
       "      <td>34</td>\n",
       "    </tr>\n",
       "    <tr>\n",
       "      <th>7</th>\n",
       "      <td>Bedtime Story</td>\n",
       "      <td>15</td>\n",
       "    </tr>\n",
       "    <tr>\n",
       "      <th>8</th>\n",
       "      <td>Bitch I'm Madonna</td>\n",
       "      <td>51</td>\n",
       "    </tr>\n",
       "    <tr>\n",
       "      <th>9</th>\n",
       "      <td>Borderline</td>\n",
       "      <td>16</td>\n",
       "    </tr>\n",
       "    <tr>\n",
       "      <th>10</th>\n",
       "      <td>Burning Up</td>\n",
       "      <td>12</td>\n",
       "    </tr>\n",
       "    <tr>\n",
       "      <th>11</th>\n",
       "      <td>Bye Bye Baby</td>\n",
       "      <td>24</td>\n",
       "    </tr>\n",
       "    <tr>\n",
       "      <th>12</th>\n",
       "      <td>Causing a Commotion</td>\n",
       "      <td>82</td>\n",
       "    </tr>\n",
       "    <tr>\n",
       "      <th>13</th>\n",
       "      <td>Celebration</td>\n",
       "      <td>38</td>\n",
       "    </tr>\n",
       "    <tr>\n",
       "      <th>14</th>\n",
       "      <td>Cherish</td>\n",
       "      <td>40</td>\n",
       "    </tr>\n",
       "    <tr>\n",
       "      <th>15</th>\n",
       "      <td>Crazy for You[d]</td>\n",
       "      <td>33</td>\n",
       "    </tr>\n",
       "    <tr>\n",
       "      <th>16</th>\n",
       "      <td>Dear Jessie</td>\n",
       "      <td>55</td>\n",
       "    </tr>\n",
       "    <tr>\n",
       "      <th>17</th>\n",
       "      <td>Deeper and Deeper</td>\n",
       "      <td>47</td>\n",
       "    </tr>\n",
       "    <tr>\n",
       "      <th>18</th>\n",
       "      <td>Die Another Day</td>\n",
       "      <td>44</td>\n",
       "    </tr>\n",
       "    <tr>\n",
       "      <th>19</th>\n",
       "      <td>Don't Cry for Me Argentina</td>\n",
       "      <td>62</td>\n",
       "    </tr>\n",
       "    <tr>\n",
       "      <th>20</th>\n",
       "      <td>Don't Tell Me</td>\n",
       "      <td>39</td>\n",
       "    </tr>\n",
       "    <tr>\n",
       "      <th>21</th>\n",
       "      <td>Dress You Up</td>\n",
       "      <td>21</td>\n",
       "    </tr>\n",
       "    <tr>\n",
       "      <th>22</th>\n",
       "      <td>Drowned World/Substitute for Love</td>\n",
       "      <td>10</td>\n",
       "    </tr>\n",
       "    <tr>\n",
       "      <th>23</th>\n",
       "      <td>Erotica</td>\n",
       "      <td>25</td>\n",
       "    </tr>\n",
       "    <tr>\n",
       "      <th>24</th>\n",
       "      <td>Everybody[a]</td>\n",
       "      <td>45</td>\n",
       "    </tr>\n",
       "    <tr>\n",
       "      <th>25</th>\n",
       "      <td>Express Yourself</td>\n",
       "      <td>71</td>\n",
       "    </tr>\n",
       "    <tr>\n",
       "      <th>26</th>\n",
       "      <td>Fever</td>\n",
       "      <td>0</td>\n",
       "    </tr>\n",
       "    <tr>\n",
       "      <th>27</th>\n",
       "      <td>Frozen</td>\n",
       "      <td>18</td>\n",
       "    </tr>\n",
       "    <tr>\n",
       "      <th>28</th>\n",
       "      <td>Gambler</td>\n",
       "      <td>32</td>\n",
       "    </tr>\n",
       "    <tr>\n",
       "      <th>29</th>\n",
       "      <td>Get Together[k]</td>\n",
       "      <td>56</td>\n",
       "    </tr>\n",
       "    <tr>\n",
       "      <th>30</th>\n",
       "      <td>Ghosttown</td>\n",
       "      <td>19</td>\n",
       "    </tr>\n",
       "    <tr>\n",
       "      <th>31</th>\n",
       "      <td>Girl Gone Wild[m]</td>\n",
       "      <td>23</td>\n",
       "    </tr>\n",
       "    <tr>\n",
       "      <th>32</th>\n",
       "      <td>Give It 2 Me</td>\n",
       "      <td>28</td>\n",
       "    </tr>\n",
       "    <tr>\n",
       "      <th>33</th>\n",
       "      <td>Give Me All Your Luvin'</td>\n",
       "      <td>79</td>\n",
       "    </tr>\n",
       "    <tr>\n",
       "      <th>34</th>\n",
       "      <td>Hanky Panky</td>\n",
       "      <td>43</td>\n",
       "    </tr>\n",
       "    <tr>\n",
       "      <th>35</th>\n",
       "      <td>Hey You</td>\n",
       "      <td>42</td>\n",
       "    </tr>\n",
       "    <tr>\n",
       "      <th>36</th>\n",
       "      <td>Hold Tight[p]</td>\n",
       "      <td>72</td>\n",
       "    </tr>\n",
       "    <tr>\n",
       "      <th>37</th>\n",
       "      <td>Holiday[b]</td>\n",
       "      <td>41</td>\n",
       "    </tr>\n",
       "    <tr>\n",
       "      <th>38</th>\n",
       "      <td>Hollywood</td>\n",
       "      <td>70</td>\n",
       "    </tr>\n",
       "    <tr>\n",
       "      <th>39</th>\n",
       "      <td>Human Nature</td>\n",
       "      <td>78</td>\n",
       "    </tr>\n",
       "    <tr>\n",
       "      <th>40</th>\n",
       "      <td>Hung Up</td>\n",
       "      <td>65</td>\n",
       "    </tr>\n",
       "    <tr>\n",
       "      <th>41</th>\n",
       "      <td>I'll Remember</td>\n",
       "      <td>52</td>\n",
       "    </tr>\n",
       "    <tr>\n",
       "      <th>42</th>\n",
       "      <td>Into the Groove[e]</td>\n",
       "      <td>6</td>\n",
       "    </tr>\n",
       "    <tr>\n",
       "      <th>43</th>\n",
       "      <td>Jump[l]</td>\n",
       "      <td>26</td>\n",
       "    </tr>\n",
       "    <tr>\n",
       "      <th>44</th>\n",
       "      <td>Justify My Love</td>\n",
       "      <td>1</td>\n",
       "    </tr>\n",
       "    <tr>\n",
       "      <th>45</th>\n",
       "      <td>Keep It Together[h]</td>\n",
       "      <td>14</td>\n",
       "    </tr>\n",
       "    <tr>\n",
       "      <th>46</th>\n",
       "      <td>La Isla Bonita</td>\n",
       "      <td>67</td>\n",
       "    </tr>\n",
       "    <tr>\n",
       "      <th>47</th>\n",
       "      <td>Like a Prayer</td>\n",
       "      <td>9</td>\n",
       "    </tr>\n",
       "    <tr>\n",
       "      <th>48</th>\n",
       "      <td>Like a Virgin</td>\n",
       "      <td>77</td>\n",
       "    </tr>\n",
       "    <tr>\n",
       "      <th>49</th>\n",
       "      <td>Live to Tell</td>\n",
       "      <td>68</td>\n",
       "    </tr>\n",
       "    <tr>\n",
       "      <th>50</th>\n",
       "      <td>Living for Love[o]</td>\n",
       "      <td>22</td>\n",
       "    </tr>\n",
       "    <tr>\n",
       "      <th>51</th>\n",
       "      <td>Love Don't Live Here Anymore</td>\n",
       "      <td>73</td>\n",
       "    </tr>\n",
       "    <tr>\n",
       "      <th>52</th>\n",
       "      <td>Love Profusion[j]</td>\n",
       "      <td>74</td>\n",
       "    </tr>\n",
       "    <tr>\n",
       "      <th>53</th>\n",
       "      <td>Lucky Star[c]</td>\n",
       "      <td>66</td>\n",
       "    </tr>\n",
       "    <tr>\n",
       "      <th>54</th>\n",
       "      <td>Masterpiece[n]</td>\n",
       "      <td>49</td>\n",
       "    </tr>\n",
       "    <tr>\n",
       "      <th>55</th>\n",
       "      <td>Material Girl</td>\n",
       "      <td>11</td>\n",
       "    </tr>\n",
       "    <tr>\n",
       "      <th>56</th>\n",
       "      <td>Me Against the Music</td>\n",
       "      <td>20</td>\n",
       "    </tr>\n",
       "  </tbody>\n",
       "</table>\n",
       "</div>"
      ],
      "text/plain": [
       "                                Songs  Preference_Avision\n",
       "0                          4 Minutes                   81\n",
       "1                       American Life                   5\n",
       "2                        American Pie                  37\n",
       "3                               Angel                   8\n",
       "4    Another Suitcase in Another Hall                  35\n",
       "5                            Bad Girl                  31\n",
       "6                  Beautiful Stranger                  34\n",
       "7                       Bedtime Story                  15\n",
       "8                  Bitch I'm Madonna                   51\n",
       "9                          Borderline                  16\n",
       "10                         Burning Up                  12\n",
       "11                       Bye Bye Baby                  24\n",
       "12                Causing a Commotion                  82\n",
       "13                        Celebration                  38\n",
       "14                            Cherish                  40\n",
       "15                   Crazy for You[d]                  33\n",
       "16                        Dear Jessie                  55\n",
       "17                  Deeper and Deeper                  47\n",
       "18                    Die Another Day                  44\n",
       "19         Don't Cry for Me Argentina                  62\n",
       "20                      Don't Tell Me                  39\n",
       "21                       Dress You Up                  21\n",
       "22  Drowned World/Substitute for Love                  10\n",
       "23                            Erotica                  25\n",
       "24                       Everybody[a]                  45\n",
       "25                   Express Yourself                  71\n",
       "26                              Fever                   0\n",
       "27                             Frozen                  18\n",
       "28                            Gambler                  32\n",
       "29                    Get Together[k]                  56\n",
       "30                          Ghosttown                  19\n",
       "31                  Girl Gone Wild[m]                  23\n",
       "32                       Give It 2 Me                  28\n",
       "33           Give Me All Your Luvin'                   79\n",
       "34                        Hanky Panky                  43\n",
       "35                            Hey You                  42\n",
       "36                      Hold Tight[p]                  72\n",
       "37                         Holiday[b]                  41\n",
       "38                          Hollywood                  70\n",
       "39                       Human Nature                  78\n",
       "40                            Hung Up                  65\n",
       "41                      I'll Remember                  52\n",
       "42                 Into the Groove[e]                   6\n",
       "43                            Jump[l]                  26\n",
       "44                    Justify My Love                   1\n",
       "45                Keep It Together[h]                  14\n",
       "46                     La Isla Bonita                  67\n",
       "47                      Like a Prayer                   9\n",
       "48                      Like a Virgin                  77\n",
       "49                       Live to Tell                  68\n",
       "50                 Living for Love[o]                  22\n",
       "51       Love Don't Live Here Anymore                  73\n",
       "52                  Love Profusion[j]                  74\n",
       "53                      Lucky Star[c]                  66\n",
       "54                     Masterpiece[n]                  49\n",
       "55                      Material Girl                  11\n",
       "56               Me Against the Music                  20"
      ]
     },
     "execution_count": 45,
     "metadata": {},
     "output_type": "execute_result"
    }
   ],
   "source": [
    "# check new dataframe\n",
    "data_madge.head(57)"
   ]
  },
  {
   "cell_type": "markdown",
   "metadata": {},
   "source": [
    "#### Specific preferences\n",
    "Whilst broadly indifferent between the vast majority of Madge's discology, two songs stand out to the author:\n",
    "- Material Girl\n",
    "- La Isla Bonita\n",
    "What one wants to do is thus ensure that these two songs have the highest two preference rankings, `0` and `1`."
   ]
  },
  {
   "cell_type": "code",
   "execution_count": 128,
   "metadata": {
    "collapsed": false
   },
   "outputs": [],
   "source": [
    "# 1. find songs randomly classified as favourites\n",
    "value_top_preferences_random = [0, 1]\n",
    "data_top_random = data_madge[data_madge.Preference_Avision.isin(value_top_preferences_random)]"
   ]
  },
  {
   "cell_type": "code",
   "execution_count": 129,
   "metadata": {
    "collapsed": true
   },
   "outputs": [],
   "source": [
    "# 2. find 'Material Girl' and 'La Isla Bonita'\n",
    "songs_top_own = ['Material Girl', 'La Isla Bonita']\n",
    "data_top_own = data_madge[data_madge.Songs.isin(songs_top_own)]"
   ]
  },
  {
   "cell_type": "code",
   "execution_count": 130,
   "metadata": {
    "collapsed": false
   },
   "outputs": [
    {
     "data": {
      "text/html": [
       "<div>\n",
       "<table border=\"1\" class=\"dataframe\">\n",
       "  <thead>\n",
       "    <tr style=\"text-align: right;\">\n",
       "      <th></th>\n",
       "      <th>SongsRandom</th>\n",
       "      <th>PreferenceRandom</th>\n",
       "    </tr>\n",
       "  </thead>\n",
       "  <tbody>\n",
       "    <tr>\n",
       "      <th>26</th>\n",
       "      <td>Fever</td>\n",
       "      <td>0</td>\n",
       "    </tr>\n",
       "    <tr>\n",
       "      <th>44</th>\n",
       "      <td>Justify My Love</td>\n",
       "      <td>1</td>\n",
       "    </tr>\n",
       "  </tbody>\n",
       "</table>\n",
       "</div>"
      ],
      "text/plain": [
       "        SongsRandom  PreferenceRandom\n",
       "26            Fever                 0\n",
       "44  Justify My Love                 1"
      ]
     },
     "execution_count": 130,
     "metadata": {},
     "output_type": "execute_result"
    }
   ],
   "source": [
    "# 3. rename columns so can distinguish them\n",
    "data_top_random = data_top_random.rename(columns = {\"Songs\": \"SongsRandom\", \n",
    "                                                    \"Preference_Avision\": \"PreferenceRandom\"})\n",
    "data_top_random"
   ]
  },
  {
   "cell_type": "code",
   "execution_count": 131,
   "metadata": {
    "collapsed": false
   },
   "outputs": [
    {
     "data": {
      "text/html": [
       "<div>\n",
       "<table border=\"1\" class=\"dataframe\">\n",
       "  <thead>\n",
       "    <tr style=\"text-align: right;\">\n",
       "      <th></th>\n",
       "      <th>Songs</th>\n",
       "      <th>Preference</th>\n",
       "    </tr>\n",
       "  </thead>\n",
       "  <tbody>\n",
       "    <tr>\n",
       "      <th>46</th>\n",
       "      <td>La Isla Bonita</td>\n",
       "      <td>67</td>\n",
       "    </tr>\n",
       "    <tr>\n",
       "      <th>55</th>\n",
       "      <td>Material Girl</td>\n",
       "      <td>11</td>\n",
       "    </tr>\n",
       "  </tbody>\n",
       "</table>\n",
       "</div>"
      ],
      "text/plain": [
       "             Songs  Preference\n",
       "46  La Isla Bonita          67\n",
       "55   Material Girl          11"
      ]
     },
     "execution_count": 131,
     "metadata": {},
     "output_type": "execute_result"
    }
   ],
   "source": [
    "data_top_own = data_top_own.rename(columns = {\"Preference_Avision\": \"Preference\"})\n",
    "data_top_own"
   ]
  },
  {
   "cell_type": "code",
   "execution_count": 132,
   "metadata": {
    "collapsed": false
   },
   "outputs": [
    {
     "data": {
      "text/html": [
       "<div>\n",
       "<table border=\"1\" class=\"dataframe\">\n",
       "  <thead>\n",
       "    <tr style=\"text-align: right;\">\n",
       "      <th></th>\n",
       "      <th>Songs</th>\n",
       "      <th>Preference</th>\n",
       "      <th>SongsRandom</th>\n",
       "      <th>PreferenceRandom</th>\n",
       "    </tr>\n",
       "  </thead>\n",
       "  <tbody>\n",
       "    <tr>\n",
       "      <th>0</th>\n",
       "      <td>La Isla Bonita</td>\n",
       "      <td>67</td>\n",
       "      <td>Fever</td>\n",
       "      <td>0</td>\n",
       "    </tr>\n",
       "    <tr>\n",
       "      <th>1</th>\n",
       "      <td>Material Girl</td>\n",
       "      <td>11</td>\n",
       "      <td>Justify My Love</td>\n",
       "      <td>1</td>\n",
       "    </tr>\n",
       "  </tbody>\n",
       "</table>\n",
       "</div>"
      ],
      "text/plain": [
       "            Songs  Preference      SongsRandom  PreferenceRandom\n",
       "0  La Isla Bonita          67            Fever                 0\n",
       "1   Material Girl          11  Justify My Love                 1"
      ]
     },
     "execution_count": 132,
     "metadata": {},
     "output_type": "execute_result"
    }
   ],
   "source": [
    "# 3. append dataframes together\n",
    "# need to reset indices to do so\n",
    "data_temp = pd.concat(objs = [data_top_own.reset_index(drop = True), \n",
    "                              data_top_random.reset_index(drop = True)],\n",
    "                      axis = 1)\n",
    "data_temp"
   ]
  },
  {
   "cell_type": "code",
   "execution_count": 133,
   "metadata": {
    "collapsed": false
   },
   "outputs": [],
   "source": [
    "# 4.i select correct preference columns now to accurately map preferences\n",
    "data_top_random = data_temp.loc[:, ['SongsRandom', 'Preference']]\n",
    "data_top_own = data_temp.loc[:, ['Songs', 'PreferenceRandom']]\n",
    "\n",
    "# 4.ii rename columns so we can append/union\n",
    "data_top_random = data_top_random.rename(columns = {\"SongsRandom\": \"Song\"})\n",
    "data_top_own = data_top_own.rename(columns = {\"PreferenceRandom\": \"Preference\",\n",
    "                                              \"Songs\": \"Song\"})\n",
    "\n",
    "del(data_temp)"
   ]
  },
  {
   "cell_type": "code",
   "execution_count": 134,
   "metadata": {
    "collapsed": false
   },
   "outputs": [
    {
     "data": {
      "text/html": [
       "<div>\n",
       "<table border=\"1\" class=\"dataframe\">\n",
       "  <thead>\n",
       "    <tr style=\"text-align: right;\">\n",
       "      <th></th>\n",
       "      <th>Song</th>\n",
       "      <th>Preference</th>\n",
       "    </tr>\n",
       "  </thead>\n",
       "  <tbody>\n",
       "    <tr>\n",
       "      <th>0</th>\n",
       "      <td>Fever</td>\n",
       "      <td>67</td>\n",
       "    </tr>\n",
       "    <tr>\n",
       "      <th>1</th>\n",
       "      <td>Justify My Love</td>\n",
       "      <td>11</td>\n",
       "    </tr>\n",
       "    <tr>\n",
       "      <th>2</th>\n",
       "      <td>La Isla Bonita</td>\n",
       "      <td>0</td>\n",
       "    </tr>\n",
       "    <tr>\n",
       "      <th>3</th>\n",
       "      <td>Material Girl</td>\n",
       "      <td>1</td>\n",
       "    </tr>\n",
       "  </tbody>\n",
       "</table>\n",
       "</div>"
      ],
      "text/plain": [
       "              Song  Preference\n",
       "0            Fever          67\n",
       "1  Justify My Love          11\n",
       "2   La Isla Bonita           0\n",
       "3    Material Girl           1"
      ]
     },
     "execution_count": 134,
     "metadata": {},
     "output_type": "execute_result"
    }
   ],
   "source": [
    "# 5. append/union two dataframes together\n",
    "pd.concat(objs = [data_top_random, data_top_own], ignore_index = True)"
   ]
  },
  {
   "cell_type": "code",
   "execution_count": null,
   "metadata": {
    "collapsed": true
   },
   "outputs": [],
   "source": []
  }
 ],
 "metadata": {
  "anaconda-cloud": {},
  "kernelspec": {
   "display_name": "Python [conda env:Anaconda3]",
   "language": "python",
   "name": "conda-env-Anaconda3-py"
  },
  "language_info": {
   "codemirror_mode": {
    "name": "ipython",
    "version": 3
   },
   "file_extension": ".py",
   "mimetype": "text/x-python",
   "name": "python",
   "nbconvert_exporter": "python",
   "pygments_lexer": "ipython3",
   "version": "3.5.2"
  },
  "varInspector": {
   "cols": {
    "lenName": 16,
    "lenType": 16,
    "lenVar": 40
   },
   "kernels_config": {
    "python": {
     "delete_cmd_postfix": "",
     "delete_cmd_prefix": "del ",
     "library": "var_list.py",
     "varRefreshCmd": "print(var_dic_list())"
    },
    "r": {
     "delete_cmd_postfix": ") ",
     "delete_cmd_prefix": "rm(",
     "library": "var_list.r",
     "varRefreshCmd": "cat(var_dic_list()) "
    }
   },
   "types_to_exclude": [
    "module",
    "function",
    "builtin_function_or_method",
    "instance",
    "_Feature"
   ],
   "window_display": true
  }
 },
 "nbformat": 4,
 "nbformat_minor": 1
}
